{
 "cells": [
  {
   "cell_type": "markdown",
   "id": "aa21d3bd",
   "metadata": {},
   "source": [
    "### `LLMs never execute tools they sugget that for a given problem that particular tool can be executed`"
   ]
  },
  {
   "cell_type": "code",
   "execution_count": 1,
   "id": "6fe8edf1",
   "metadata": {},
   "outputs": [],
   "source": [
    "from langchain_community.tools import DuckDuckGoSearchResults\n",
    "from langchain_community.tools import ShellTool\n",
    "search=DuckDuckGoSearchResults()"
   ]
  },
  {
   "cell_type": "code",
   "execution_count": 2,
   "id": "eac6d09a",
   "metadata": {},
   "outputs": [
    {
     "name": "stderr",
     "output_type": "stream",
     "text": [
      "c:\\Users\\Vipin Vashisth\\anaconda3\\envs\\langchain\\Lib\\site-packages\\langchain_community\\utilities\\duckduckgo_search.py:63: RuntimeWarning: This package (`duckduckgo_search`) has been renamed to `ddgs`! Use `pip install ddgs` instead.\n",
      "  with DDGS() as ddgs:\n"
     ]
    },
    {
     "name": "stdout",
     "output_type": "stream",
     "text": [
      "snippet: Feb 25, 2025 · If this won't work. Try to delete all credentials that are related to Github and reopen Visual Studio. Reinstalling the Github-Copilot …, title: Visual Studio 2022 - Unable to get GitHub Copilot to sign in, link: https://stackoverflow.com/questions/79467744/visual-studio-2022-unable-to-get-github-copilot-to-sign-in, snippet: Command prompt won't change directory to another drive Asked 13 years, 3 months ago Modified 2 years, 4 months ago Viewed 1.1m …, title: Command prompt won't change directory to another drive, link: https://stackoverflow.com/questions/11065421/command-prompt-wont-change-directory-to-another-drive, snippet: Jul 2, 2020 · When attempting to access the local git server page Microsoft Edge displays a certificate error because the git server is …, title: How to bypass certificate errors using Microsoft Edge, link: https://stackoverflow.com/questions/62699391/how-to-bypass-certificate-errors-using-microsoft-edge, snippet: Sep 9, 2024 · Here's what I've already tried: Restarting Android Studio Creating new AVDs Checking for updates to Android Studio and the …, title: Android Studio Emulator Running but Not Visible (Out of View), link: https://stackoverflow.com/questions/78964382/android-studio-emulator-running-but-not-visible-out-of-view\n"
     ]
    }
   ],
   "source": [
    "results = search.invoke(\"who won aisa cup 2025\")\n",
    "print(results)\n"
   ]
  },
  {
   "cell_type": "code",
   "execution_count": 3,
   "id": "97ba95e2",
   "metadata": {},
   "outputs": [
    {
     "name": "stdout",
     "output_type": "stream",
     "text": [
      "Executing command:\n",
      " [\"echo 'Hello World!'\", 'time']\n",
      "'Hello World!';time\n",
      "\n"
     ]
    },
    {
     "name": "stderr",
     "output_type": "stream",
     "text": [
      "c:\\Users\\Vipin Vashisth\\anaconda3\\envs\\langchain\\Lib\\site-packages\\langchain_community\\tools\\shell\\tool.py:33: UserWarning: The shell tool has no safeguards by default. Use at your own risk.\n",
      "  warnings.warn(\n"
     ]
    }
   ],
   "source": [
    "shell_tool = ShellTool()\n",
    "# output = shell_tool.invoke(\"whoami\")\n",
    "print(shell_tool.run({\"commands\": [\"echo 'Hello World!'\", \"time\"]}))\n",
    "# output = shell_tool.invoke(\"ls\")\n",
    "# print(output)"
   ]
  },
  {
   "cell_type": "code",
   "execution_count": 4,
   "id": "c71e547d",
   "metadata": {},
   "outputs": [],
   "source": [
    "from langchain_core.tools import tool"
   ]
  },
  {
   "cell_type": "markdown",
   "id": "89832894",
   "metadata": {},
   "source": [
    "`Tool Creation`"
   ]
  },
  {
   "cell_type": "code",
   "execution_count": 5,
   "id": "08057bd2",
   "metadata": {},
   "outputs": [],
   "source": [
    "@tool\n",
    "def multiply_tool(a:int,b:int) ->int:\n",
    "    \"Returns the product of two numbers\"\n",
    "    return a*b"
   ]
  },
  {
   "cell_type": "code",
   "execution_count": 6,
   "id": "6aecdffe",
   "metadata": {},
   "outputs": [
    {
     "name": "stdout",
     "output_type": "stream",
     "text": [
      "15\n"
     ]
    }
   ],
   "source": [
    "print(multiply_tool.invoke({'a':3,'b':5}))"
   ]
  },
  {
   "cell_type": "code",
   "execution_count": 7,
   "id": "5e0bfac9",
   "metadata": {},
   "outputs": [
    {
     "name": "stdout",
     "output_type": "stream",
     "text": [
      "multiply_tool\n",
      "Returns the product of two numbers\n",
      "{'a': {'title': 'A', 'type': 'integer'}, 'b': {'title': 'B', 'type': 'integer'}}\n"
     ]
    }
   ],
   "source": [
    "print(multiply_tool.name)\n",
    "print(multiply_tool.description)\n",
    "print(multiply_tool.args)\n"
   ]
  },
  {
   "cell_type": "code",
   "execution_count": 8,
   "id": "a8a93ffa",
   "metadata": {},
   "outputs": [],
   "source": [
    "from langchain_openai import ChatOpenAI\n",
    "from dotenv import load_dotenv\n",
    "load_dotenv()\n",
    "\n",
    "llm=ChatOpenAI(name=\"gpt-4.1-nano\",temperature=0)"
   ]
  },
  {
   "cell_type": "code",
   "execution_count": 9,
   "id": "ccf2061c",
   "metadata": {},
   "outputs": [
    {
     "data": {
      "text/plain": [
       "AIMessage(content='Hello! How can I assist you today?', additional_kwargs={'refusal': None}, response_metadata={'token_usage': {'completion_tokens': 9, 'prompt_tokens': 8, 'total_tokens': 17, 'completion_tokens_details': {'accepted_prediction_tokens': 0, 'audio_tokens': 0, 'reasoning_tokens': 0, 'rejected_prediction_tokens': 0}, 'prompt_tokens_details': {'audio_tokens': 0, 'cached_tokens': 0}}, 'model_name': 'gpt-3.5-turbo-0125', 'system_fingerprint': None, 'id': 'chatcmpl-CLXkCqarl3T0IdeFrYrjoYSzbDIyA', 'service_tier': 'default', 'finish_reason': 'stop', 'logprobs': None}, id='run--5b132dfc-ab2f-48f3-b568-319a100a4b63-0', usage_metadata={'input_tokens': 8, 'output_tokens': 9, 'total_tokens': 17, 'input_token_details': {'audio': 0, 'cache_read': 0}, 'output_token_details': {'audio': 0, 'reasoning': 0}})"
      ]
     },
     "execution_count": 9,
     "metadata": {},
     "output_type": "execute_result"
    }
   ],
   "source": [
    "llm.invoke(\"hi\")"
   ]
  },
  {
   "cell_type": "markdown",
   "id": "431eb636",
   "metadata": {},
   "source": [
    "`Tool binding`"
   ]
  },
  {
   "cell_type": "code",
   "execution_count": 10,
   "id": "00290af7",
   "metadata": {},
   "outputs": [],
   "source": [
    "llm_with_tools = llm.bind_tools([multiply_tool])"
   ]
  },
  {
   "cell_type": "code",
   "execution_count": 11,
   "id": "8a2fb395",
   "metadata": {},
   "outputs": [
    {
     "data": {
      "text/plain": [
       "AIMessage(content='Hello! How can I assist you today?', additional_kwargs={'refusal': None}, response_metadata={'token_usage': {'completion_tokens': 9, 'prompt_tokens': 9, 'total_tokens': 18, 'completion_tokens_details': {'accepted_prediction_tokens': 0, 'audio_tokens': 0, 'reasoning_tokens': 0, 'rejected_prediction_tokens': 0}, 'prompt_tokens_details': {'audio_tokens': 0, 'cached_tokens': 0}}, 'model_name': 'gpt-3.5-turbo-0125', 'system_fingerprint': None, 'id': 'chatcmpl-CLXkCVUIOO9SZRSJBqR6cKZf9BQMz', 'service_tier': 'default', 'finish_reason': 'stop', 'logprobs': None}, id='run--56d37d3d-ccd3-44a2-84e7-ee918b0390c0-0', usage_metadata={'input_tokens': 9, 'output_tokens': 9, 'total_tokens': 18, 'input_token_details': {'audio': 0, 'cache_read': 0}, 'output_token_details': {'audio': 0, 'reasoning': 0}})"
      ]
     },
     "execution_count": 11,
     "metadata": {},
     "output_type": "execute_result"
    }
   ],
   "source": [
    "llm.invoke(\"helloo\")"
   ]
  },
  {
   "cell_type": "code",
   "execution_count": 12,
   "id": "ed8231b3",
   "metadata": {},
   "outputs": [],
   "source": [
    "from langchain_core.messages import HumanMessage\n",
    "query=HumanMessage(content=\"what is 3 times 5?\")\n",
    "message=[query]"
   ]
  },
  {
   "cell_type": "code",
   "execution_count": 13,
   "id": "dd7d84e9",
   "metadata": {},
   "outputs": [
    {
     "data": {
      "text/plain": [
       "[HumanMessage(content='what is 3 times 5?', additional_kwargs={}, response_metadata={})]"
      ]
     },
     "execution_count": 13,
     "metadata": {},
     "output_type": "execute_result"
    }
   ],
   "source": [
    "message"
   ]
  },
  {
   "cell_type": "markdown",
   "id": "a0e14efe",
   "metadata": {},
   "source": [
    "`Tool invoking`"
   ]
  },
  {
   "cell_type": "code",
   "execution_count": 14,
   "id": "21a54ec3",
   "metadata": {},
   "outputs": [
    {
     "data": {
      "text/plain": [
       "AIMessage(content='', additional_kwargs={'tool_calls': [{'id': 'call_XaHf8VsoZvkIsZc6QkSjIiaW', 'function': {'arguments': '{\"a\":3,\"b\":5}', 'name': 'multiply_tool'}, 'type': 'function'}], 'refusal': None}, response_metadata={'token_usage': {'completion_tokens': 18, 'prompt_tokens': 57, 'total_tokens': 75, 'completion_tokens_details': {'accepted_prediction_tokens': 0, 'audio_tokens': 0, 'reasoning_tokens': 0, 'rejected_prediction_tokens': 0}, 'prompt_tokens_details': {'audio_tokens': 0, 'cached_tokens': 0}}, 'model_name': 'gpt-3.5-turbo-0125', 'system_fingerprint': None, 'id': 'chatcmpl-CLXkHz6sQ0q2jtLcyJr1hxIv6aZ74', 'service_tier': 'default', 'finish_reason': 'tool_calls', 'logprobs': None}, id='run--ac22e19d-3662-4518-9214-b5e509e7efc2-0', tool_calls=[{'name': 'multiply_tool', 'args': {'a': 3, 'b': 5}, 'id': 'call_XaHf8VsoZvkIsZc6QkSjIiaW', 'type': 'tool_call'}], usage_metadata={'input_tokens': 57, 'output_tokens': 18, 'total_tokens': 75, 'input_token_details': {'audio': 0, 'cache_read': 0}, 'output_token_details': {'audio': 0, 'reasoning': 0}})"
      ]
     },
     "execution_count": 14,
     "metadata": {},
     "output_type": "execute_result"
    }
   ],
   "source": [
    "result=llm_with_tools.invoke(message)\n",
    "result"
   ]
  },
  {
   "cell_type": "code",
   "execution_count": 15,
   "id": "b79dfca7",
   "metadata": {},
   "outputs": [],
   "source": [
    "message.append(result)"
   ]
  },
  {
   "cell_type": "code",
   "execution_count": 16,
   "id": "b996144e",
   "metadata": {},
   "outputs": [
    {
     "data": {
      "text/plain": [
       "{'name': 'multiply_tool',\n",
       " 'args': {'a': 3, 'b': 5},\n",
       " 'id': 'call_XaHf8VsoZvkIsZc6QkSjIiaW',\n",
       " 'type': 'tool_call'}"
      ]
     },
     "execution_count": 16,
     "metadata": {},
     "output_type": "execute_result"
    }
   ],
   "source": [
    "result.tool_calls[0]"
   ]
  },
  {
   "cell_type": "code",
   "execution_count": 17,
   "id": "64c4fb17",
   "metadata": {},
   "outputs": [],
   "source": [
    "tool_result=multiply_tool.invoke(result.tool_calls[0])"
   ]
  },
  {
   "cell_type": "code",
   "execution_count": 18,
   "id": "026b1349",
   "metadata": {},
   "outputs": [],
   "source": [
    "message.append(tool_result)"
   ]
  },
  {
   "cell_type": "code",
   "execution_count": 19,
   "id": "2920bcb6",
   "metadata": {},
   "outputs": [
    {
     "data": {
      "text/plain": [
       "[HumanMessage(content='what is 3 times 5?', additional_kwargs={}, response_metadata={}),\n",
       " AIMessage(content='', additional_kwargs={'tool_calls': [{'id': 'call_XaHf8VsoZvkIsZc6QkSjIiaW', 'function': {'arguments': '{\"a\":3,\"b\":5}', 'name': 'multiply_tool'}, 'type': 'function'}], 'refusal': None}, response_metadata={'token_usage': {'completion_tokens': 18, 'prompt_tokens': 57, 'total_tokens': 75, 'completion_tokens_details': {'accepted_prediction_tokens': 0, 'audio_tokens': 0, 'reasoning_tokens': 0, 'rejected_prediction_tokens': 0}, 'prompt_tokens_details': {'audio_tokens': 0, 'cached_tokens': 0}}, 'model_name': 'gpt-3.5-turbo-0125', 'system_fingerprint': None, 'id': 'chatcmpl-CLXkHz6sQ0q2jtLcyJr1hxIv6aZ74', 'service_tier': 'default', 'finish_reason': 'tool_calls', 'logprobs': None}, id='run--ac22e19d-3662-4518-9214-b5e509e7efc2-0', tool_calls=[{'name': 'multiply_tool', 'args': {'a': 3, 'b': 5}, 'id': 'call_XaHf8VsoZvkIsZc6QkSjIiaW', 'type': 'tool_call'}], usage_metadata={'input_tokens': 57, 'output_tokens': 18, 'total_tokens': 75, 'input_token_details': {'audio': 0, 'cache_read': 0}, 'output_token_details': {'audio': 0, 'reasoning': 0}}),\n",
       " ToolMessage(content='15', name='multiply_tool', tool_call_id='call_XaHf8VsoZvkIsZc6QkSjIiaW')]"
      ]
     },
     "execution_count": 19,
     "metadata": {},
     "output_type": "execute_result"
    }
   ],
   "source": [
    "message"
   ]
  },
  {
   "cell_type": "code",
   "execution_count": 20,
   "id": "9ea459c9",
   "metadata": {},
   "outputs": [
    {
     "data": {
      "text/plain": [
       "'3 times 5 is 15.'"
      ]
     },
     "execution_count": 20,
     "metadata": {},
     "output_type": "execute_result"
    }
   ],
   "source": [
    "llm_with_tools.invoke(message).content"
   ]
  },
  {
   "cell_type": "code",
   "execution_count": null,
   "id": "25a6cca0",
   "metadata": {},
   "outputs": [],
   "source": []
  },
  {
   "cell_type": "markdown",
   "id": "735c37c0",
   "metadata": {},
   "source": [
    "#### `Tool Creation`"
   ]
  },
  {
   "cell_type": "code",
   "execution_count": 21,
   "id": "039374b3",
   "metadata": {},
   "outputs": [],
   "source": [
    "# tool create\n",
    "from langchain_core.tools import InjectedToolArg\n",
    "from typing import Annotated\n",
    "import requests\n",
    "@tool\n",
    "def get_conversion_factor(base_currency: str, target_currency: str) -> float:\n",
    "  \"\"\"\n",
    "  This function fetches the currency conversion factor between a given base currency and a target currency\n",
    "  \"\"\"\n",
    "  url = f'https://v6.exchangerate-api.com/v6/c754eab14ffab33112e380ca/pair/{base_currency}/{target_currency}'\n",
    "\n",
    "  response = requests.get(url)\n",
    "\n",
    "  return response.json()\n",
    "\n",
    "@tool\n",
    "def convert(base_currency_value: int, conversion_rate: Annotated[float, InjectedToolArg]) -> float:\n",
    "  \"\"\"\n",
    "  given a currency conversion rate this function calculates the target currency value from a given base currency value\n",
    "  \"\"\"\n",
    "\n",
    "  return base_currency_value * conversion_rate\n"
   ]
  },
  {
   "cell_type": "code",
   "execution_count": 22,
   "id": "24ac4591",
   "metadata": {},
   "outputs": [
    {
     "data": {
      "text/plain": [
       "{'base_currency_value': {'title': 'Base Currency Value', 'type': 'integer'},\n",
       " 'conversion_rate': {'title': 'Conversion Rate', 'type': 'number'}}"
      ]
     },
     "execution_count": 22,
     "metadata": {},
     "output_type": "execute_result"
    }
   ],
   "source": [
    "convert.args"
   ]
  },
  {
   "cell_type": "code",
   "execution_count": 23,
   "id": "f8dd3fec",
   "metadata": {},
   "outputs": [
    {
     "data": {
      "text/plain": [
       "{'result': 'success',\n",
       " 'documentation': 'https://www.exchangerate-api.com/docs',\n",
       " 'terms_of_use': 'https://www.exchangerate-api.com/terms',\n",
       " 'time_last_update_unix': 1759190401,\n",
       " 'time_last_update_utc': 'Tue, 30 Sep 2025 00:00:01 +0000',\n",
       " 'time_next_update_unix': 1759276801,\n",
       " 'time_next_update_utc': 'Wed, 01 Oct 2025 00:00:01 +0000',\n",
       " 'base_code': 'USD',\n",
       " 'target_code': 'INR',\n",
       " 'conversion_rate': 88.7665}"
      ]
     },
     "execution_count": 23,
     "metadata": {},
     "output_type": "execute_result"
    }
   ],
   "source": [
    "get_conversion_factor.invoke({'base_currency':'USD','target_currency':'INR'})"
   ]
  },
  {
   "cell_type": "code",
   "execution_count": 25,
   "id": "06f478b1",
   "metadata": {},
   "outputs": [
    {
     "data": {
      "text/plain": [
       "887.665"
      ]
     },
     "execution_count": 25,
     "metadata": {},
     "output_type": "execute_result"
    }
   ],
   "source": [
    "convert.invoke({'base_currency_value':10, 'conversion_rate': 88.7665})"
   ]
  },
  {
   "cell_type": "code",
   "execution_count": 26,
   "id": "afc39d6b",
   "metadata": {},
   "outputs": [],
   "source": [
    "llm_with_tools = llm.bind_tools([get_conversion_factor, convert])"
   ]
  },
  {
   "cell_type": "code",
   "execution_count": 27,
   "id": "f8c9aa68",
   "metadata": {},
   "outputs": [],
   "source": [
    "messages = [HumanMessage('What is the conversion factor between INR and USD, and based on that can you convert 10 inr to usd')]"
   ]
  },
  {
   "cell_type": "code",
   "execution_count": 28,
   "id": "4c94c402",
   "metadata": {},
   "outputs": [
    {
     "data": {
      "text/plain": [
       "[HumanMessage(content='What is the conversion factor between INR and USD, and based on that can you convert 10 inr to usd', additional_kwargs={}, response_metadata={})]"
      ]
     },
     "execution_count": 28,
     "metadata": {},
     "output_type": "execute_result"
    }
   ],
   "source": [
    "messages"
   ]
  },
  {
   "cell_type": "code",
   "execution_count": 29,
   "id": "a6f08066",
   "metadata": {},
   "outputs": [],
   "source": [
    "ai_message = llm_with_tools.invoke(messages)"
   ]
  },
  {
   "cell_type": "code",
   "execution_count": 30,
   "id": "26637bee",
   "metadata": {},
   "outputs": [],
   "source": [
    "messages.append(ai_message)"
   ]
  },
  {
   "cell_type": "code",
   "execution_count": 31,
   "id": "24fd58bb",
   "metadata": {},
   "outputs": [
    {
     "data": {
      "text/plain": [
       "[{'name': 'get_conversion_factor',\n",
       "  'args': {'base_currency': 'INR', 'target_currency': 'USD'},\n",
       "  'id': 'call_HnWIaGz3ASiC0vFUHRfY1YUa',\n",
       "  'type': 'tool_call'},\n",
       " {'name': 'convert',\n",
       "  'args': {'base_currency_value': 10},\n",
       "  'id': 'call_JMAq6ho2Cdl8ApYFkffe8uCl',\n",
       "  'type': 'tool_call'}]"
      ]
     },
     "execution_count": 31,
     "metadata": {},
     "output_type": "execute_result"
    }
   ],
   "source": [
    "ai_message.tool_calls"
   ]
  },
  {
   "cell_type": "code",
   "execution_count": 32,
   "id": "a7fc4a4c",
   "metadata": {},
   "outputs": [],
   "source": [
    "import json\n",
    "\n",
    "for tool_call in ai_message.tool_calls:\n",
    "  # execute the 1st tool and get the value of conversion rate\n",
    "  if tool_call['name'] == 'get_conversion_factor':\n",
    "    tool_message1 = get_conversion_factor.invoke(tool_call)\n",
    "    # fetch this conversion rate\n",
    "    conversion_rate = json.loads(tool_message1.content)['conversion_rate']\n",
    "    # append this tool message to messages list\n",
    "    messages.append(tool_message1)\n",
    "  # execute the 2nd tool using the conversion rate from tool 1\n",
    "  if tool_call['name'] == 'convert':\n",
    "    # fetch the current arg\n",
    "    tool_call['args']['conversion_rate'] = conversion_rate\n",
    "    tool_message2 = convert.invoke(tool_call)\n",
    "    messages.append(tool_message2)\n",
    "\n"
   ]
  },
  {
   "cell_type": "code",
   "execution_count": 33,
   "id": "22490ab1",
   "metadata": {},
   "outputs": [
    {
     "data": {
      "text/plain": [
       "[HumanMessage(content='What is the conversion factor between INR and USD, and based on that can you convert 10 inr to usd', additional_kwargs={}, response_metadata={}),\n",
       " AIMessage(content='', additional_kwargs={'tool_calls': [{'id': 'call_HnWIaGz3ASiC0vFUHRfY1YUa', 'function': {'arguments': '{\"base_currency\": \"INR\", \"target_currency\": \"USD\"}', 'name': 'get_conversion_factor'}, 'type': 'function'}, {'id': 'call_JMAq6ho2Cdl8ApYFkffe8uCl', 'function': {'arguments': '{\"base_currency_value\": 10}', 'name': 'convert'}, 'type': 'function'}], 'refusal': None}, response_metadata={'token_usage': {'completion_tokens': 52, 'prompt_tokens': 123, 'total_tokens': 175, 'completion_tokens_details': {'accepted_prediction_tokens': 0, 'audio_tokens': 0, 'reasoning_tokens': 0, 'rejected_prediction_tokens': 0}, 'prompt_tokens_details': {'audio_tokens': 0, 'cached_tokens': 0}}, 'model_name': 'gpt-3.5-turbo-0125', 'system_fingerprint': None, 'id': 'chatcmpl-CLY0bQWf8zM7TlVHNLnWRvYJYES8O', 'service_tier': 'default', 'finish_reason': 'tool_calls', 'logprobs': None}, id='run--c74d28e2-8ca7-4f24-b6e1-2e51bf8bbdca-0', tool_calls=[{'name': 'get_conversion_factor', 'args': {'base_currency': 'INR', 'target_currency': 'USD'}, 'id': 'call_HnWIaGz3ASiC0vFUHRfY1YUa', 'type': 'tool_call'}, {'name': 'convert', 'args': {'base_currency_value': 10, 'conversion_rate': 0.01127}, 'id': 'call_JMAq6ho2Cdl8ApYFkffe8uCl', 'type': 'tool_call'}], usage_metadata={'input_tokens': 123, 'output_tokens': 52, 'total_tokens': 175, 'input_token_details': {'audio': 0, 'cache_read': 0}, 'output_token_details': {'audio': 0, 'reasoning': 0}}),\n",
       " ToolMessage(content='{\"result\": \"success\", \"documentation\": \"https://www.exchangerate-api.com/docs\", \"terms_of_use\": \"https://www.exchangerate-api.com/terms\", \"time_last_update_unix\": 1759190401, \"time_last_update_utc\": \"Tue, 30 Sep 2025 00:00:01 +0000\", \"time_next_update_unix\": 1759276801, \"time_next_update_utc\": \"Wed, 01 Oct 2025 00:00:01 +0000\", \"base_code\": \"INR\", \"target_code\": \"USD\", \"conversion_rate\": 0.01127}', name='get_conversion_factor', tool_call_id='call_HnWIaGz3ASiC0vFUHRfY1YUa'),\n",
       " ToolMessage(content='0.11270000000000001', name='convert', tool_call_id='call_JMAq6ho2Cdl8ApYFkffe8uCl')]"
      ]
     },
     "execution_count": 33,
     "metadata": {},
     "output_type": "execute_result"
    }
   ],
   "source": [
    "messages"
   ]
  },
  {
   "cell_type": "code",
   "execution_count": 34,
   "id": "a17aa6ab",
   "metadata": {},
   "outputs": [
    {
     "data": {
      "text/plain": [
       "'The conversion factor between INR and USD is 0.01127. \\n\\nBased on this conversion factor, 10 INR is equal to approximately 0.1127 USD.'"
      ]
     },
     "execution_count": 34,
     "metadata": {},
     "output_type": "execute_result"
    }
   ],
   "source": [
    "llm_with_tools.invoke(messages).content"
   ]
  },
  {
   "cell_type": "code",
   "execution_count": 35,
   "id": "94180211",
   "metadata": {},
   "outputs": [
    {
     "name": "stderr",
     "output_type": "stream",
     "text": [
      "C:\\Users\\Vipin Vashisth\\AppData\\Local\\Temp\\ipykernel_17436\\627313024.py:4: LangChainDeprecationWarning: LangChain agents will continue to be supported, but it is recommended for new use cases to be built with LangGraph. LangGraph offers a more flexible and full-featured framework for building agents, including support for tool-calling, persistence of state, and human-in-the-loop workflows. For details, refer to the `LangGraph documentation <https://langchain-ai.github.io/langgraph/>`_ as well as guides for `Migrating from AgentExecutor <https://python.langchain.com/docs/how_to/migrate_agent/>`_ and LangGraph's `Pre-built ReAct agent <https://langchain-ai.github.io/langgraph/how-tos/create-react-agent/>`_.\n",
      "  agent_executor = initialize_agent(\n"
     ]
    }
   ],
   "source": [
    "from langchain.agents import initialize_agent, AgentType\n",
    "\n",
    "# Step 5: Initialize the Agent ---\n",
    "agent_executor = initialize_agent(\n",
    "    tools=[get_conversion_factor, convert],\n",
    "    llm=llm,\n",
    "    agent=AgentType.STRUCTURED_CHAT_ZERO_SHOT_REACT_DESCRIPTION,  # using ReAct pattern\n",
    "    verbose=True  # shows internal thinking\n",
    ")"
   ]
  },
  {
   "cell_type": "code",
   "execution_count": 36,
   "id": "22d5b39a",
   "metadata": {},
   "outputs": [
    {
     "name": "stdout",
     "output_type": "stream",
     "text": [
      "\n",
      "\n",
      "\u001b[1m> Entering new AgentExecutor chain...\u001b[0m\n",
      "\u001b[32;1m\u001b[1;3mI'm here and ready to help! How can I assist you today?\u001b[0m\n",
      "\n",
      "\u001b[1m> Finished chain.\u001b[0m\n"
     ]
    }
   ],
   "source": [
    "# --- Step 6: Run the Agent ---\n",
    "user_query = \"Hi how are you?\"\n",
    "\n",
    "response = agent_executor.invoke({\"input\": user_query})"
   ]
  },
  {
   "cell_type": "code",
   "execution_count": null,
   "id": "60d38fbc",
   "metadata": {},
   "outputs": [],
   "source": []
  }
 ],
 "metadata": {
  "kernelspec": {
   "display_name": "langchain",
   "language": "python",
   "name": "python3"
  },
  "language_info": {
   "codemirror_mode": {
    "name": "ipython",
    "version": 3
   },
   "file_extension": ".py",
   "mimetype": "text/x-python",
   "name": "python",
   "nbconvert_exporter": "python",
   "pygments_lexer": "ipython3",
   "version": "3.11.0"
  }
 },
 "nbformat": 4,
 "nbformat_minor": 5
}
