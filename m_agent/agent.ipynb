{
 "cells": [
  {
   "cell_type": "code",
   "execution_count": 3,
   "id": "27f5a682",
   "metadata": {},
   "outputs": [
    {
     "data": {
      "text/plain": [
       "True"
      ]
     },
     "execution_count": 3,
     "metadata": {},
     "output_type": "execute_result"
    }
   ],
   "source": [
    "from langchain_openai import ChatOpenAI\n",
    "from langchain import hub           # place where different people have stored their prompts just like github but for prompts\n",
    "from langchain_openai import ChatOpenAI\n",
    "import requests\n",
    "from langchain_community.tools import DuckDuckGoSearchRun\n",
    "from dotenv import load_dotenv\n",
    "load_dotenv()"
   ]
  },
  {
   "cell_type": "code",
   "execution_count": 4,
   "id": "259cc7bc",
   "metadata": {},
   "outputs": [],
   "source": [
    "search_tool = DuckDuckGoSearchRun()"
   ]
  },
  {
   "cell_type": "code",
   "execution_count": 26,
   "id": "f1aa36ef",
   "metadata": {},
   "outputs": [],
   "source": [
    "from langchain_core.tools import tool\n",
    "@tool\n",
    "def get_weather_data(city:str)->str:\n",
    "    \"\"\"This feature fetches the current weather for a city.\"\"\"\n",
    "    url = f'https://api.weatherapi.com/v1/current.json?key=ee8af3c74aed4a75868164414250210&q={city}&aqi=yes'\n",
    "    response = requests.get(url)\n",
    "    if response.status_code != 200:\n",
    "        return \"Error: Unable to fetch weather data.\"   \n",
    "    else:\n",
    "        return response.json()"
   ]
  },
  {
   "cell_type": "code",
   "execution_count": 27,
   "id": "cb244ecc",
   "metadata": {},
   "outputs": [],
   "source": [
    "llm = ChatOpenAI(name='gpt-4.1-nano')\n",
    "from langchain.agents import create_react_agent, AgentExecutor"
   ]
  },
  {
   "cell_type": "code",
   "execution_count": 28,
   "id": "2d64c22a",
   "metadata": {},
   "outputs": [
    {
     "name": "stderr",
     "output_type": "stream",
     "text": [
      "c:\\Users\\Vipin Vashisth\\anaconda3\\envs\\langchain\\Lib\\site-packages\\langsmith\\client.py:272: LangSmithMissingAPIKeyWarning: API key must be provided when using hosted LangSmith API\n",
      "  warnings.warn(\n"
     ]
    }
   ],
   "source": [
    "# Step 2: Pull the ReAct prompt from LangChain Hub\n",
    "prompt = hub.pull(\"hwchase17/react\")  # pulls the standard ReAct agent prompt"
   ]
  },
  {
   "cell_type": "code",
   "execution_count": 29,
   "id": "143c2f6d",
   "metadata": {},
   "outputs": [],
   "source": [
    "agent = create_react_agent(\n",
    "    llm=llm,\n",
    "    tools=[search_tool, get_weather_data],\n",
    "    prompt=prompt\n",
    ")"
   ]
  },
  {
   "cell_type": "code",
   "execution_count": 30,
   "id": "59843f45",
   "metadata": {},
   "outputs": [],
   "source": [
    "agent_executor=AgentExecutor(\\\n",
    "    agent=agent,\n",
    "    tools=[search_tool,get_weather_data],\n",
    "    verbose=True    \n",
    "    )"
   ]
  },
  {
   "cell_type": "code",
   "execution_count": 31,
   "id": "9f2bae72",
   "metadata": {},
   "outputs": [
    {
     "name": "stdout",
     "output_type": "stream",
     "text": [
      "\n",
      "\n",
      "\u001b[1m> Entering new AgentExecutor chain...\u001b[0m\n",
      "\u001b[32;1m\u001b[1;3mI need to find the capital of Haryana first and then check the current weather in that city.\n",
      "Action: duckduckgo_search\n",
      "Action Input: \"capital of Haryana\"\u001b[0m"
     ]
    },
    {
     "name": "stderr",
     "output_type": "stream",
     "text": [
      "c:\\Users\\Vipin Vashisth\\anaconda3\\envs\\langchain\\Lib\\site-packages\\langchain_community\\utilities\\duckduckgo_search.py:63: RuntimeWarning: This package (`duckduckgo_search`) has been renamed to `ddgs`! Use `pip install ddgs` instead.\n",
      "  with DDGS() as ddgs:\n"
     ]
    },
    {
     "name": "stdout",
     "output_type": "stream",
     "text": [
      "\u001b[36;1m\u001b[1;3mNo good DuckDuckGo Search Result was found\u001b[0m\u001b[32;1m\u001b[1;3mI need to refine my search query to get a better result.\n",
      "Action: duckduckgo_search\n",
      "Action Input: \"capital of Haryana India\"\u001b[0m"
     ]
    },
    {
     "name": "stderr",
     "output_type": "stream",
     "text": [
      "c:\\Users\\Vipin Vashisth\\anaconda3\\envs\\langchain\\Lib\\site-packages\\langchain_community\\utilities\\duckduckgo_search.py:63: RuntimeWarning: This package (`duckduckgo_search`) has been renamed to `ddgs`! Use `pip install ddgs` instead.\n",
      "  with DDGS() as ddgs:\n"
     ]
    },
    {
     "name": "stdout",
     "output_type": "stream",
     "text": [
      "\u001b[36;1m\u001b[1;3mFeb 20, 2025 · Traditional capital flows dominated by Western economies are evolving – financial hubs are emerging across Asia and … Jun 27, 2019 · Here's what is human capital. There's nothing more positive in economics than investing in people. But how do you measure … Mar 24, 2025 · The long-envisioned integration of traditional financial systems with blockchain technology is now becoming a reality with on … Mar 14, 2013 · Is it ever correct to write \"Government\" without \"the\" and with a capital G? Let's say both the writer and the reader know … Apr 5, 2009 · Hi there, Is there any difference between the meaning/usage of \"upper case\" and \"capital\" (referring to letters, of course). And if …\u001b[0m\u001b[32;1m\u001b[1;3mThe search results seem to be unrelated to the capital of Haryana.\n",
      "Action: duckduckgo_search\n",
      "Action Input: \"capital of Haryana state India\"\u001b[0m"
     ]
    },
    {
     "name": "stderr",
     "output_type": "stream",
     "text": [
      "c:\\Users\\Vipin Vashisth\\anaconda3\\envs\\langchain\\Lib\\site-packages\\langchain_community\\utilities\\duckduckgo_search.py:63: RuntimeWarning: This package (`duckduckgo_search`) has been renamed to `ddgs`! Use `pip install ddgs` instead.\n",
      "  with DDGS() as ddgs:\n"
     ]
    },
    {
     "name": "stdout",
     "output_type": "stream",
     "text": [
      "\u001b[36;1m\u001b[1;3mNo good DuckDuckGo Search Result was found\u001b[0m\u001b[32;1m\u001b[1;3mI might need to try a different search engine or search for a specific city in Haryana to find its capital.\n",
      "Action: duckduckgo_search\n",
      "Action Input: \"cities in Haryana India\"\u001b[0m"
     ]
    },
    {
     "name": "stderr",
     "output_type": "stream",
     "text": [
      "c:\\Users\\Vipin Vashisth\\anaconda3\\envs\\langchain\\Lib\\site-packages\\langchain_community\\utilities\\duckduckgo_search.py:63: RuntimeWarning: This package (`duckduckgo_search`) has been renamed to `ddgs`! Use `pip install ddgs` instead.\n",
      "  with DDGS() as ddgs:\n"
     ]
    },
    {
     "name": "stdout",
     "output_type": "stream",
     "text": [
      "\u001b[36;1m\u001b[1;3mNo good DuckDuckGo Search Result was found\u001b[0m\u001b[32;1m\u001b[1;3mI should try searching for districts in Haryana instead of cities to find the capital.\n",
      "Action: duckduckgo_search\n",
      "Action Input: \"districts in Haryana India\"\u001b[0m"
     ]
    },
    {
     "name": "stderr",
     "output_type": "stream",
     "text": [
      "c:\\Users\\Vipin Vashisth\\anaconda3\\envs\\langchain\\Lib\\site-packages\\langchain_community\\utilities\\duckduckgo_search.py:63: RuntimeWarning: This package (`duckduckgo_search`) has been renamed to `ddgs`! Use `pip install ddgs` instead.\n",
      "  with DDGS() as ddgs:\n"
     ]
    },
    {
     "name": "stdout",
     "output_type": "stream",
     "text": [
      "\u001b[36;1m\u001b[1;3m롤체지지 KR 추천 메타 순위표 시즌 15 챔피언 시너지 아이템 증강체 파워 업/보상표 오버레이 배치툴/도구 게임 가이드 게시판/듀오찾기 전략적 팀 전투 TFT 롤토체스 전적 검색도 OP.GG 에서! TFT.OP.GG 에서 최신 메타를 반영한 추천 덱, 조합, 전적, 가이드 등 다양한 정보를 확인하세요! TFT 메타와 현재 최고의 전략적 팀 전투 롤토체스 팀 구성 및 빌드를 탐색하세요. 위치 배치, 계열, 최고의 아이템, 최적의 업그레이드 코어 및 엔드게임 옵션에 대한 가이드를 제공합니다. 롤체지지 - 가이드 및 통계 개편 안내 [롤체지지 바로가기] 롤체지지를 이용해주시는 분들에게 새로운 소식을 가져왔습니다! GNB 개편과 함께 가이드 및 통계 개편이 이루어졌는데요. 이번 개편은 통계 데이터를 한눈에 … 전략적 팀 전투 TFT 롤토체스 전적 검색 사이트입니다. 롤 TFT 모바일과 롤체 덱 조합 추천 정보를 시즌 별로 확인하세요\u001b[0m\u001b[32;1m\u001b[1;3mThe search results seem to be off-topic and not related to the capital of Haryana.\n",
      "Action: duckduckgo_search\n",
      "Action Input: \"capital of Haryana state\"\u001b[0m"
     ]
    },
    {
     "name": "stderr",
     "output_type": "stream",
     "text": [
      "c:\\Users\\Vipin Vashisth\\anaconda3\\envs\\langchain\\Lib\\site-packages\\langchain_community\\utilities\\duckduckgo_search.py:63: RuntimeWarning: This package (`duckduckgo_search`) has been renamed to `ddgs`! Use `pip install ddgs` instead.\n",
      "  with DDGS() as ddgs:\n"
     ]
    },
    {
     "name": "stdout",
     "output_type": "stream",
     "text": [
      "\u001b[36;1m\u001b[1;3mIt is ranked 21st in terms of area, with less than 1.4% (44,212 km 2 or 17,070 sq mi) of India's land area. [1][10] The state capital is Chandigarh, … Haryana is known for its agricultural productivity, being a hub for industries, and Chandigarh, a well-planned city known for its architecture … Sep 17, 2025 · Haryana, state in north-central India. The city of Chandigarh, within the Chandigarh union territory, serves as the … Jul 23, 2025 · In India, there are a total of 28 States and 8 Union Territories. Each state in India is unique and has a very rich and diverse … Chandigarh is the union territory and the capital of two states, Haryana and Punjab. The city is not in the two states and comes under the …\u001b[0m\u001b[32;1m\u001b[1;3mThe capital of Haryana is Chandigarh.\n",
      "Action: get_weather_data\n",
      "Action Input: \"Chandigarh, India\"\u001b[0m\u001b[33;1m\u001b[1;3m{'location': {'name': 'Chandigarh', 'region': 'Chandigarh', 'country': 'India', 'lat': 30.7372, 'lon': 76.7872, 'tz_id': 'Asia/Kolkata', 'localtime_epoch': 1759424182, 'localtime': '2025-10-02 22:26'}, 'current': {'last_updated_epoch': 1759423500, 'last_updated': '2025-10-02 22:15', 'temp_c': 25.2, 'temp_f': 77.3, 'is_day': 0, 'condition': {'text': 'Partly Cloudy', 'icon': '//cdn.weatherapi.com/weather/64x64/night/116.png', 'code': 1003}, 'wind_mph': 6.3, 'wind_kph': 10.1, 'wind_degree': 113, 'wind_dir': 'ESE', 'pressure_mb': 1009.0, 'pressure_in': 29.81, 'precip_mm': 0.0, 'precip_in': 0.0, 'humidity': 73, 'cloud': 36, 'feelslike_c': 27.0, 'feelslike_f': 80.5, 'windchill_c': 25.2, 'windchill_f': 77.3, 'heatindex_c': 27.0, 'heatindex_f': 80.5, 'dewpoint_c': 20.1, 'dewpoint_f': 68.1, 'vis_km': 10.0, 'vis_miles': 6.0, 'uv': 0.0, 'gust_mph': 13.0, 'gust_kph': 20.9, 'air_quality': {'co': 762.85, 'no2': 10.95, 'o3': 167.0, 'so2': 16.85, 'pm2_5': 52.45, 'pm10': 64.65, 'us-epa-index': 3, 'gb-defra-index': 6}, 'short_rad': 0, 'diff_rad': 0, 'dni': 0, 'gti': 0}}\u001b[0m\u001b[32;1m\u001b[1;3mI now know the final answer.\n",
      "Final Answer: The capital of Haryana is Chandigarh. The current weather in Chandigarh is partly cloudy with a temperature of 25.2°C (77.3°F), humidity at 73%, and wind speed at 10.1 kph from the ESE direction.\u001b[0m\n",
      "\n",
      "\u001b[1m> Finished chain.\u001b[0m\n",
      "{'input': 'Find the capital of Haryana and also the current weather there.', 'output': 'The capital of Haryana is Chandigarh. The current weather in Chandigarh is partly cloudy with a temperature of 25.2°C (77.3°F), humidity at 73%, and wind speed at 10.1 kph from the ESE direction.'}\n"
     ]
    }
   ],
   "source": [
    "response = agent_executor.invoke({\"input\":\"Find the capital of Haryana and also the current weather there.\"})\n",
    "print(response)"
   ]
  },
  {
   "cell_type": "code",
   "execution_count": 32,
   "id": "061aa789",
   "metadata": {},
   "outputs": [
    {
     "data": {
      "text/plain": [
       "'The capital of Haryana is Chandigarh. The current weather in Chandigarh is partly cloudy with a temperature of 25.2°C (77.3°F), humidity at 73%, and wind speed at 10.1 kph from the ESE direction.'"
      ]
     },
     "execution_count": 32,
     "metadata": {},
     "output_type": "execute_result"
    }
   ],
   "source": [
    "response['output']"
   ]
  },
  {
   "cell_type": "code",
   "execution_count": null,
   "id": "e1847cc5",
   "metadata": {},
   "outputs": [],
   "source": []
  }
 ],
 "metadata": {
  "kernelspec": {
   "display_name": "langchain",
   "language": "python",
   "name": "python3"
  },
  "language_info": {
   "codemirror_mode": {
    "name": "ipython",
    "version": 3
   },
   "file_extension": ".py",
   "mimetype": "text/x-python",
   "name": "python",
   "nbconvert_exporter": "python",
   "pygments_lexer": "ipython3",
   "version": "3.11.0"
  }
 },
 "nbformat": 4,
 "nbformat_minor": 5
}
